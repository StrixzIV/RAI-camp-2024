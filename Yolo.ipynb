{
  "cells": [
    {
      "cell_type": "code",
      "execution_count": null,
      "metadata": {
        "colab": {
          "base_uri": "https://localhost:8080/"
        },
        "id": "dN4HBWH42yfe",
        "outputId": "cccf1590-100e-49c0-ea46-1fb55e9f1a32"
      },
      "outputs": [],
      "source": [
        "!pip install ultralytics"
      ]
    },
    {
      "cell_type": "code",
      "execution_count": 17,
      "metadata": {
        "id": "W4LBw6pI20ce"
      },
      "outputs": [],
      "source": [
        "from google.colab import drive\n",
        "import cv2\n",
        "import os\n",
        "import math\n",
        "from ultralytics import YOLO\n",
        "import matplotlib.pyplot as plt"
      ]
    },
    {
      "cell_type": "code",
      "execution_count": null,
      "metadata": {
        "colab": {
          "base_uri": "https://localhost:8080/"
        },
        "id": "7SBUKg-PIRtN",
        "outputId": "380d5ec5-75f9-485d-fa8b-522c8bcac6d1"
      },
      "outputs": [],
      "source": [
        "drive.mount('/content/drive')"
      ]
    },
    {
      "cell_type": "markdown",
      "metadata": {},
      "source": [
        "# Extract frames from video"
      ]
    },
    {
      "cell_type": "code",
      "execution_count": 20,
      "metadata": {
        "id": "EEAxVZMqIUQV"
      },
      "outputs": [],
      "source": [
        "def create_directories(base_path):\n",
        "    os.makedirs(f\"{base_path}/train/moodeng\", exist_ok=True)\n",
        "    os.makedirs(f\"{base_path}/train/box\", exist_ok=True)\n",
        "    os.makedirs(f\"{base_path}/val/moodeng\", exist_ok=True)\n",
        "    os.makedirs(f\"{base_path}/val/box\", exist_ok=True)\n",
        "\n",
        "\n",
        "def find_video_file(folder_path, file_prefix):\n",
        "    possible_extensions = ['.mp4', '.mov']  \n",
        "    file_prefix_lower = file_prefix.lower()\n",
        "\n",
        "    for file in os.listdir(folder_path):\n",
        "        for ext in possible_extensions:\n",
        "            if file.lower() == f\"{file_prefix_lower}{ext}\":\n",
        "                return os.path.join(folder_path, file)\n",
        "    return None\n",
        "\n",
        "def save_frame(image, output_dir, prefix, count):\n",
        "    file_name = os.path.join(output_dir, f\"{count:04d}_{prefix}.png\")\n",
        "    cv2.imwrite(file_name, image)\n",
        "\n",
        "def split_frames(video_path, base_output_dir, prefix, frames_per_second=5, split_ratio=0.8):\n",
        "    vidcap = cv2.VideoCapture(video_path)\n",
        "\n",
        "    if not vidcap.isOpened(): \n",
        "        print(f\"Error: Could not open video file {video_path}\")\n",
        "        return\n",
        "\n",
        "    fps = int(vidcap.get(cv2.CAP_PROP_FPS))\n",
        "    total_frames = int(vidcap.get(cv2.CAP_PROP_FRAME_COUNT))\n",
        "\n",
        "    print(f\"Frames per second: {fps}\")\n",
        "    print(f\"Total frames in video: {total_frames}\")\n",
        "\n",
        "    frame_interval = int(fps / frames_per_second)\n",
        "\n",
        "    total_extracted_frames = total_frames // frame_interval\n",
        "\n",
        "    train_frame_limit = math.ceil(total_extracted_frames * split_ratio)\n",
        "\n",
        "    count = 0\n",
        "    success, image = vidcap.read()\n",
        "    frame_number = 0\n",
        "    \n",
        "    while success:\n",
        "        if frame_number % frame_interval == 0:\n",
        "            if count < train_frame_limit:\n",
        "                output_dir = f\"{base_output_dir}/train/{prefix}\"\n",
        "            else:\n",
        "                output_dir = f\"{base_output_dir}/val/{prefix}\"\n",
        "            \n",
        "            save_frame(image, output_dir, prefix, count)\n",
        "            count += 1\n",
        "\n",
        "        success, image = vidcap.read()\n",
        "        frame_number += 1\n",
        "\n",
        "    vidcap.release()"
      ]
    },
    {
      "cell_type": "code",
      "execution_count": null,
      "metadata": {
        "colab": {
          "base_uri": "https://localhost:8080/"
        },
        "id": "Jaj91Bn6NXvv",
        "outputId": "179d3d50-71ce-4817-beaf-28d15a0c260b"
      },
      "outputs": [],
      "source": [
        "def process_single_video(base_path, base_output_dir, file_prefix, frames_per_second=10, split_ratio=0.8):\n",
        "    video_path = find_video_file(base_path, file_prefix)\n",
        "    \n",
        "    if video_path:\n",
        "        print(f\"Found video file: {video_path}\")\n",
        "\n",
        "        create_directories(base_output_dir)\n",
        "\n",
        "        split_frames(video_path, base_output_dir, file_prefix, frames_per_second, split_ratio)\n",
        "    else:\n",
        "        print(f\"Error: Video file for {file_prefix} not found.\")\n",
        "base_output_dir = \"Data\"\n",
        "base_path = '/content/drive/MyDrive/RAI_CAMP_DATASET' \n",
        "\n",
        "process_single_video(base_path, base_output_dir, 'moodeng')\n",
        "process_single_video(base_path, base_output_dir, 'box')\n",
        "print(\"Frame extraction and splitting into train/val completed.\")"
      ]
    },
    {
      "cell_type": "markdown",
      "metadata": {},
      "source": [
        "# Train model"
      ]
    },
    {
      "cell_type": "code",
      "execution_count": null,
      "metadata": {
        "colab": {
          "base_uri": "https://localhost:8080/"
        },
        "id": "ambhSCflejM8",
        "outputId": "2a8aa55b-dc30-49cf-a3ae-78d12bc1dead"
      },
      "outputs": [],
      "source": [
        "model = YOLO('yolov8n-cls.pt')\n",
        "model.train(data='/content/Data', epochs=5)"
      ]
    },
    {
      "cell_type": "markdown",
      "metadata": {},
      "source": [
        "# Inference"
      ]
    },
    {
      "cell_type": "code",
      "execution_count": 23,
      "metadata": {
        "id": "yC9nPHiXN8aP"
      },
      "outputs": [],
      "source": [
        "def perform_inference(model, image_path):\n",
        "    image = cv2.imread(image_path)\n",
        "\n",
        "    results = model(image_path)\n",
        "\n",
        "    predicted_class = results[0].names[results[0].probs.top1]\n",
        "    confidence = results[0].probs.top1conf.item()\n",
        "\n",
        "    display_image_with_prediction(image, predicted_class, confidence)\n",
        "\n",
        "def display_image_with_prediction(image, predicted_class, confidence):\n",
        "    image_rgb = cv2.cvtColor(image, cv2.COLOR_BGR2RGB)\n",
        "\n",
        "    plt.figure(figsize=(8, 8))\n",
        "    plt.imshow(image_rgb)\n",
        "    plt.title(f\"Prediction: {predicted_class}, Confidence: {confidence*100:.2f}%\")\n",
        "    plt.axis('off')\n",
        "    plt.show()"
      ]
    },
    {
      "cell_type": "code",
      "execution_count": null,
      "metadata": {
        "colab": {
          "base_uri": "https://localhost:8080/",
          "height": 1000
        },
        "id": "T2vMvHQB1XAc",
        "outputId": "9c3864d2-e6c9-4ae0-f97d-014c2d72d2c8"
      },
      "outputs": [],
      "source": [
        "def process_images_in_folder(model, folder_path):\n",
        "    supported_extensions = ('.png', '.jpg')\n",
        "\n",
        "    for filename in os.listdir(folder_path):\n",
        "        if filename.lower().endswith(supported_extensions):\n",
        "            image_path = os.path.join(folder_path, filename)\n",
        "            print(f\"Processing image: {image_path}\")\n",
        "            perform_inference(model, image_path)\n",
        "\n",
        "test_folder_path = '/content/drive/MyDrive/RAI_CAMP_DATASET/TEST'\n",
        "\n",
        "process_images_in_folder(model, test_folder_path)\n"
      ]
    }
  ],
  "metadata": {
    "colab": {
      "provenance": []
    },
    "kernelspec": {
      "display_name": "Python 3",
      "name": "python3"
    },
    "language_info": {
      "name": "python"
    }
  },
  "nbformat": 4,
  "nbformat_minor": 0
}
