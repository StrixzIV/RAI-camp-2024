{
 "cells": [
  {
   "cell_type": "code",
   "execution_count": null,
   "metadata": {},
   "outputs": [],
   "source": [
    "import pandas as pd\n",
    "import seaborn as sns\n",
    "import matplotlib.pyplot as plt\n",
    "\n",
    "from sklearn import preprocessing\n",
    "from sklearn.ensemble import RandomForestClassifier\n",
    "from sklearn.model_selection import train_test_split"
   ]
  },
  {
   "cell_type": "code",
   "execution_count": null,
   "metadata": {},
   "outputs": [],
   "source": [
    "df = pd.read_csv('https://docs.google.com/spreadsheets/d/1ISEL4hYIGNcqZmQ2vZNry2nxP-eWBtC_WKzACYkJDQU/export?format=csv&gid=1163006501')\n",
    "df.drop(columns = 'Timestamp', inplace = True)\n",
    "\n",
    "df.head(5)"
   ]
  },
  {
   "cell_type": "code",
   "execution_count": null,
   "metadata": {},
   "outputs": [],
   "source": [
    "transformer = dict()\n",
    "transformed_df = pd.DataFrame()\n",
    "\n",
    "for col in df.columns:\n",
    "    transformer[col] = preprocessing.LabelEncoder()\n",
    "    transformed_df[col] = transformer[col].fit_transform(df[col])\n",
    "    \n",
    "(train_df, test_df) = train_test_split(transformed_df, test_size = 0.2)\n",
    "train_df"
   ]
  },
  {
   "cell_type": "code",
   "execution_count": null,
   "metadata": {},
   "outputs": [],
   "source": [
    "%matplotlib inline \n",
    "sns.heatmap(transformed_df.corr(), cmap = 'rocket_r')"
   ]
  },
  {
   "cell_type": "code",
   "execution_count": null,
   "metadata": {},
   "outputs": [],
   "source": [
    "questions = list(df.columns)\n",
    "print(*(f'questions[{q_idx}]: {q.strip()}' for (q_idx, q) in enumerate(questions)), sep = '\\n')"
   ]
  },
  {
   "cell_type": "code",
   "execution_count": null,
   "metadata": {},
   "outputs": [],
   "source": [
    "features = [\n",
    "\tquestions[0],\n",
    "\tquestions[1],\n",
    "\tquestions[2],\n",
    "\tquestions[3]\n",
    "]\n",
    "\n",
    "label = questions[4]\n",
    "\n",
    "if label in features:\n",
    "    raise KeyError('feature containing label data. Try using another question.')\n",
    "\n",
    "if len(features) != 4:\n",
    "    raise ValueError('only 4 question allowed!!!')"
   ]
  },
  {
   "cell_type": "code",
   "execution_count": null,
   "metadata": {},
   "outputs": [],
   "source": [
    "x = train_df[features]\n",
    "y = train_df[label]\n",
    "\n",
    "dtree = RandomForestClassifier()\n",
    "dtree = dtree.fit(x, y)\n",
    "\n",
    "sample = test_df\n",
    "x_sample = sample[features].copy()\n",
    "\n",
    "for col in x_sample.columns:\n",
    "    x_sample.loc[:, col] = transformer[col].inverse_transform(x_sample[col])\n",
    "\n",
    "x_sample.loc[:, f'{label} (Prediction)'] = transformer[label].inverse_transform(dtree.predict(sample[features]))\n",
    "x_sample.loc[:, f'{label} (Actual)'] = transformer[label].inverse_transform(sample[label])\n",
    "x_sample.loc[:, 'Confidence (%)'] = [round(float(max(e)), 2) for e in dtree.predict_proba(sample[features]) * 100]\n",
    "\n",
    "print(f'Prediction accuracy: {dtree.score(sample[features], sample[label])*100:.2f}%')\n",
    "print(f'Average confidence: {x_sample[\"Confidence (%)\"].mean():.2f}%')\n",
    "\n",
    "x_sample"
   ]
  }
 ],
 "metadata": {
  "kernelspec": {
   "display_name": "conda310-venv",
   "language": "python",
   "name": "python3"
  },
  "language_info": {
   "codemirror_mode": {
    "name": "ipython",
    "version": 3
   },
   "file_extension": ".py",
   "mimetype": "text/x-python",
   "name": "python",
   "nbconvert_exporter": "python",
   "pygments_lexer": "ipython3",
   "version": "3.10.6"
  }
 },
 "nbformat": 4,
 "nbformat_minor": 2
}
